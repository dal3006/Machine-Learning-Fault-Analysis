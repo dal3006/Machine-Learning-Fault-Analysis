{
 "cells": [
  {
   "cell_type": "code",
   "execution_count": 2,
   "metadata": {},
   "outputs": [],
   "source": [
    "import pandas as pd\n",
    "import numpy as np \n",
    "import seaborn as sns\n",
    "%matplotlib inline\n",
    "\n",
    "#alphas=[0, 1,2,3]\n",
    "#betas= [0, 1,2,3]\n",
    "\n",
    "\n",
    "#df = pd.DataFrame({'alpha': [],'beta': [], 'accuracy': []})\n",
    "\n",
    "#i = -1\n",
    "#for a in alphas:\n",
    "#    for b in betas:\n",
    "#        df = df.append({'alpha': a, 'beta': b, 'accuracy': i}, ignore_index=True)\n",
    "#        i +=0.1\n",
    "\n",
    "#df.to_csv('file1.csv')\n",
    "#df"
   ]
  },
  {
   "cell_type": "code",
   "execution_count": 10,
   "metadata": {},
   "outputs": [
    {
     "data": {
      "text/plain": [
       "<AxesSubplot:xlabel='beta', ylabel='alpha'>"
      ]
     },
     "execution_count": 10,
     "metadata": {},
     "output_type": "execute_result"
    },
    {
     "data": {
      "image/png": "[encoded data removed]",
      "text/plain": [
       "<Figure size 432x288 with 2 Axes>"
      ]
     },
     "metadata": {
      "needs_background": "light"
     },
     "output_type": "display_data"
    }
   ],
   "source": [
    "\n",
    "# lod dataframe from csv\n",
    "df = pd.read_csv('gridsearch.csv')\n",
    "\n",
    "# pivot table\n",
    "df_pivot = df.pivot_table(index='alpha', columns='beta', values='accuracy')\n",
    "\n",
    "\n",
    "# seaborn dataframe heatmap\n",
    "sns.heatmap(df_pivot, annot=True, fmt=\".2f\", cmap='coolwarm')"
   ]
  }
 ],
 "metadata": {
  "interpreter": {
   "hash": "a2e63b6b73ccbc5d8e5c8a523372885cd73c90b2800ab2d1105817fe0780b919"
  },
  "kernelspec": {
   "display_name": "Python 3.8.6 64-bit ('ml')",
   "language": "python",
   "name": "python3"
  },
  "language_info": {
   "codemirror_mode": {
    "name": "ipython",
    "version": 3
   },
   "file_extension": ".py",
   "mimetype": "text/x-python",
   "name": "python",
   "nbconvert_exporter": "python",
   "pygments_lexer": "ipython3",
   "version": "3.8.6"
  },
  "orig_nbformat": 4
 },
 "nbformat": 4,
 "nbformat_minor": 2
}
